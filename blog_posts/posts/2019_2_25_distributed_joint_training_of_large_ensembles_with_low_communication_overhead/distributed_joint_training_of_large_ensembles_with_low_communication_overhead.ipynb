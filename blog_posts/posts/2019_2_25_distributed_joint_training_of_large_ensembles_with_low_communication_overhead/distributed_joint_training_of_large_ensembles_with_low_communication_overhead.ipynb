{
 "cells": [
  {
   "cell_type": "markdown",
   "metadata": {},
   "source": [
    "In this post I'll show how we can train an ensemble of neural network classifiers cooperateively in a largely decoupled way, such that we can distribute the training of the ensemble over a potentially very large cluster with low communication overhead.\n",
    "\n",
    "The gist is to mix manual and automatic differentiation, as I [described in a previous post](http://www.awebb.info/blog/who_needs), such that our framework can operate independently on each node without requiring any knowledge of the larger model/computational cluster.  I made use of this trick in some [recent work](https://arxiv.org/abs/1902.04422) on the LAMBDA project (EPSRC reference EP/N035127/1) at the University of Manchester.\n",
    "\n",
    "By training an ensemble cooperatively, I mean that we'll tune the parameters of the networks by minimizing the cross entropy between the ensemble predictions and the target, rather than training each network individually by minimizing the cross entropy between that network's predictions and the target. This is an idea that's gaining some traction. See for example:\n",
    "\n",
    "- Joint Training of Neural Network Ensembles, Webb, Reynolds et al. ([arxiv.org/abs/1902.04422](https://arxiv.org/abs/1902.04422))\n",
    "- Coupled Ensembles of Neural Networks, Dutt, Pellerin, Quénot ([arxiv.org/abs/1709.06053](https://arxiv.org/abs/1709.06053))\n",
    "- Born Again Neural Networks, Furlanello, Lipton et al. ([arxiv.org/abs/1805.04770](https://arxiv.org/abs/1805.04770))\n",
    "\n",
    "It might be more natural to think of the ensemble as being a single network with a modular structure, since the individual members of the ensemble are not encouraged to individually fit the data at all. The following figure shows the structure of the ensemble/modular network.\n",
    "\n",
    "<img src=\"./img/net_schematic.png\" width=\"250\" />\n",
    "\n",
    "Suppose we have $M$ neural networks indexed by $j$ which, for input ${\\bf{x}}$, have a a vector of logits $f^{(j)}({\\bf x})$ and of prediction probabilities $q^{(j)}({\\bf x}) = \\sigma(f^{(j)}({\\bf x}))$, where $\\sigma$ is the softmax function. We'll use as our ensemble predictions $\\bar{q}({\\bf x})$ the normalized geometric mean of the individual model predictions, i.e., a Product of Experts:\n",
    "$$\n",
    "\\bar{q}_k({\\bf x}) = \\frac{1}{Z} \\prod_{j=1}^M q_k^{(j)}({\\bf x}) ^{1/M}\\quad,\n",
    "$$\n",
    "where $Z$ is a normalization term and the index $k$ indicates the $k$th class. Note that the ensemble prediction $\\bar{q}({\\bf x})$ is equal to the softmax function ${\\sigma}$ applied to the arithmetic mean of the individual network logits:\n",
    "$$\n",
    "\\bar{q}({\\bf x}) = \\sigma\\left(\\frac{1}{M} \\sum_{j=1}^M f^{(j)}({\\bf x}) \\right) \\quad .\n",
    "$$\n",
    "\n",
    "Now I'll show two equivalent methods to train such an ensemble. The first is the usual way, defining a single computational graph. For the second method we'll define a seperate computational graph for each ensemble member, and these can be distributed over computational nodes with minimal communication overhead. A seperate instance of PyTorch will run on each computational node, without any given instance knowing about the whole computational graph/model structure.\n",
    "\n",
    "Here are the usual imports:"
   ]
  },
  {
   "cell_type": "code",
   "execution_count": 1,
   "metadata": {},
   "outputs": [],
   "source": [
    "import torch\n",
    "from torchvision import datasets, transforms\n",
    "from torch.utils.data import DataLoader\n",
    "import torch.nn as nn\n",
    "import torch.nn.functional as F\n",
    "import torch.optim as optim\n",
    "\n",
    "import numpy as np\n",
    "import matplotlib.pyplot as plt\n",
    "%matplotlib inline"
   ]
  },
  {
   "cell_type": "markdown",
   "metadata": {},
   "source": [
    "Now let's set up a data loader for the training data from MNIST."
   ]
  },
  {
   "cell_type": "code",
   "execution_count": 2,
   "metadata": {},
   "outputs": [],
   "source": [
    "batch_size = 200\n",
    "learning_rate = 0.5\n",
    "momentum = 0.9\n",
    "\n",
    "use_cuda = torch.cuda.is_available()\n",
    "device = torch.device('cuda' if use_cuda else 'cpu')\n",
    "kwargs = {'num_workers': 1, 'pin_memory': True} if use_cuda else {}\n",
    "\n",
    "train_loader = torch.utils.data.DataLoader(\n",
    "        datasets.MNIST('./data', train=True, download=True,\n",
    "                       transform=transforms.Compose([\n",
    "                           transforms.ToTensor(),\n",
    "                           transforms.Normalize((0.1307,), (0.3081,))\n",
    "                       ])),\n",
    "        batch_size=batch_size, shuffle=True, **kwargs)"
   ]
  },
  {
   "cell_type": "markdown",
   "metadata": {},
   "source": [
    "Now let's define the invididual network architectures. Although they could be heterogeneous, here we'll use the same very small convolutional network architecture for each member of the ensemble."
   ]
  },
  {
   "cell_type": "code",
   "execution_count": 3,
   "metadata": {},
   "outputs": [],
   "source": [
    "class Net(nn.Module):\n",
    "    def __init__(self):\n",
    "        super(Net, self).__init__()\n",
    "        self.conv1 = nn.Conv2d(1, 20, kernel_size=3, stride=2)\n",
    "        self.conv2 = nn.Conv2d(20, 40, kernel_size=3, stride=2)\n",
    "        self.fc1 = nn.Linear(40, 20)\n",
    "        self.fc2 = nn.Linear(20, 10)\n",
    "\n",
    "    def forward(self, x):\n",
    "        x = F.relu(self.conv1(x))\n",
    "        x = F.relu(self.conv2(x))\n",
    "        x = F.avg_pool2d(x, 6)\n",
    "        x = x.view(-1, 40)\n",
    "        x = F.relu(self.fc1(x))\n",
    "        x = self.fc2(x)\n",
    "        return x"
   ]
  },
  {
   "cell_type": "markdown",
   "metadata": {},
   "source": [
    "## Single Computational Graph Method\n",
    "\n",
    "Below is the more typical, naive way to train our ensemble, by defining it as a single computational graph, defining a loss function, and then doing backpropagation in order to set the network parameters to minimize that loss function."
   ]
  },
  {
   "cell_type": "code",
   "execution_count": 4,
   "metadata": {},
   "outputs": [],
   "source": [
    "def train_single_computational_graph(epochs=1,\n",
    "                                     ensemble_size=1,\n",
    "                                     seed=None):\n",
    "    criterion = nn.CrossEntropyLoss()\n",
    "    if seed is not None:\n",
    "        torch.manual_seed(seed)\n",
    "\n",
    "    # Initialize M models\n",
    "    models = [Net().to(device) for i in range(ensemble_size)]\n",
    "    # Initialize a single optimizer\n",
    "    optimizer = optim.SGD(nn.ModuleList(models).parameters(),\n",
    "                          lr=learning_rate,\n",
    "                          momentum=momentum)\n",
    "\n",
    "    losses = []\n",
    "    for epoch in range(epochs):\n",
    "        for data, target in train_loader:\n",
    "            data, target = data.to(device), target.to(device)\n",
    "\n",
    "            optimizer.zero_grad()\n",
    "            ensemble_logits = torch.mean(\n",
    "                torch.stack([model.forward(data) for model in models]),\n",
    "                dim=0)\n",
    "        \n",
    "            # Define a loss function for the ensemble to be minimized\n",
    "            loss = criterion(ensemble_logits, target)\n",
    "            loss.backward()\n",
    "            optimizer.step()\n",
    "        \n",
    "            losses.append(loss.item())\n",
    "            \n",
    "    return losses"
   ]
  },
  {
   "cell_type": "markdown",
   "metadata": {},
   "source": [
    "## Multiple Computational Graphs Method\n",
    "\n",
    "An alternative approach is to do the first step of backpropagation manually (as discussed in a [previous post](http://www.awebb.info/blog/who_needs)), and note that\n",
    "$$\n",
    "\\frac{\\partial L}{\\partial f_k^{(j)}} = \\bar{q}_k - p_k \\quad,\n",
    "$$\n",
    "where $L$ is the ensemble cross entropy loss and $p$ is a one-hot encoding of the target. We can see from this that all of the interaction between ensemble members during training can be achieved by distributing the ensemble prediction vector $\\bar{q}$ to $M$ seperate PyTorch instances, each of which handles a seperate ensemble member, and then manually setting $\\frac{\\partial L}{\\partial f_k^{(j)}}$ in each of them as above. This constitutes an alternative, equivalent training procedure which, in more detail, works as follows.\n",
    "\n",
    "- Set up a separate computational graph and optimizer for each network in the ensemble, possibly each on a seperate computational node.\n",
    "- For each iteration:\n",
    "    - Do a forward pass of each, computing the logits for that network.\n",
    "    - Take the arithmetic mean of the logits and apply the softmax function to get the ensemble predictions $\\bar{q}$. If the ensemble members are on seperate computational nodes, this will require communication of the logits.\n",
    "    - Do a backward pass of each graph, starting at the logit layer, with the gradient explicitly set to $(\\bar{q} - p) / (\\text{ensemble_size} * \\text{batch_size})$. If the ensemble members are on seperate computational nodes, this will require communication of the ensemble prediction probability vector.\n",
    "    \n",
    "This is done in the following code. I've defined a $\\texttt{ComputationalNode}$ class to emphasize the fact that each sub-model and optimizer could be run on a separate node in a computational cluster running a separate instance of PyTorch; the PyTorch framework doesn't need to know anything about our wider computational cluster. We need to handle a small amount of communication: each node needs to send its $B\\times K$ logits per iteration, where $B$ is the batch size and $K$ is the number of classes, and then needs to receive the $B\\times K$ ensemble prediction probabilities."
   ]
  },
  {
   "cell_type": "code",
   "execution_count": 5,
   "metadata": {},
   "outputs": [],
   "source": [
    "class ComputationalNode():\n",
    "    \n",
    "    # Initialize a model and an optimizer for this node\n",
    "    def __init__(self, ensemble_size):\n",
    "        self.model = Net().to(device)\n",
    "        self.optimizer = optim.SGD(self.model.parameters(),\n",
    "                                   lr=learning_rate,\n",
    "                                   momentum=momentum)\n",
    "        self.ensemble_size = ensemble_size\n",
    "        \n",
    "    # Do the forward pass for this node, returning the logits\n",
    "    def forward_pass(self, data):\n",
    "        self.optimizer.zero_grad()\n",
    "        self.logits = self.model.forward(data)\n",
    "        return self.logits.detach()\n",
    "    \n",
    "    # Do a backward pass starting at the logit layer using the ensemble predictions\n",
    "    def backward_pass(self, target, ensemble_prediction):\n",
    "        self.logits.backward(1/(batch_size * self.ensemble_size) * (ensemble_prediction - target))\n",
    "        self.optimizer.step()\n",
    "\n",
    "\n",
    "# Get a one-hot encoding of the target\n",
    "def get_one_hot_(target, target_one_hot):\n",
    "    target_one_hot.zero_()\n",
    "    target_one_hot.scatter_(1, torch.unsqueeze(target.data, 1), 1)\n",
    "\n",
    "    \n",
    "def train_multiple_computational_graphs(epochs=1,\n",
    "                                        ensemble_size=1,\n",
    "                                        seed=None):\n",
    "    criterion = nn.CrossEntropyLoss()\n",
    "    softmax = nn.Softmax(dim=-1)\n",
    "    target_one_hot = torch.FloatTensor(batch_size, 10).to(device)\n",
    "    if seed is not None:\n",
    "        torch.manual_seed(seed)\n",
    "\n",
    "    # Setup the M computational nodes with a model and optimizer each\n",
    "    nodes = [ComputationalNode(ensemble_size) for i in range(ensemble_size)]\n",
    "\n",
    "    losses = []\n",
    "    for epoch in range(epochs):\n",
    "        for data, target in train_loader:\n",
    "            data, target = data.to(device), target.to(device)\n",
    "            get_one_hot_(target, target_one_hot)\n",
    "            \n",
    "            # Do the forward pass for each node\n",
    "            # Gather the logits\n",
    "            ensemble_logits = torch.mean(\n",
    "                torch.stack([node.forward_pass(data) for node in nodes]),\n",
    "                dim=0)\n",
    "\n",
    "            # Compute the ensemble prediction\n",
    "            ensemble_prediction = softmax(ensemble_logits)\n",
    "            \n",
    "            # Do the backward pass for each node\n",
    "            for node in nodes:\n",
    "                node.backward_pass(target_one_hot, ensemble_prediction)\n",
    "        \n",
    "            loss = criterion(ensemble_logits, target)\n",
    "            losses.append(loss.item())\n",
    "            \n",
    "    return losses"
   ]
  },
  {
   "cell_type": "markdown",
   "metadata": {},
   "source": [
    "Running the two training procedures from the same initial state and plotting the ensemble loss over time, we see that initially it's pretty much exactly the same. After a while, small numerical differences seem to accumulate."
   ]
  },
  {
   "cell_type": "code",
   "execution_count": 6,
   "metadata": {},
   "outputs": [
    {
     "data": {
      "text/plain": [
       "<matplotlib.legend.Legend at 0x7fe7cbeb20f0>"
      ]
     },
     "execution_count": 6,
     "metadata": {},
     "output_type": "execute_result"
    },
    {
     "data": {
      "image/png": "[encoded data removed]",
      "text/plain": [
       "<Figure size 432x288 with 1 Axes>"
      ]
     },
     "metadata": {},
     "output_type": "display_data"
    }
   ],
   "source": [
    "losses_single_graph = train_single_computational_graph(epochs=1,\n",
    "                                                       ensemble_size=10,\n",
    "                                                       seed=900)\n",
    "losses_multiple_graphs = train_multiple_computational_graphs(epochs=1,\n",
    "                                                             ensemble_size=10,\n",
    "                                                             seed=900)\n",
    "\n",
    "xs = np.arange(len(losses_single_graph))\n",
    "plt.plot(xs, losses_single_graph, label='Single computational graph')\n",
    "plt.plot(xs, losses_multiple_graphs, label='Multiple computational graphs')\n",
    "plt.xlabel('Iteration')\n",
    "plt.ylabel('Loss')\n",
    "plt.legend()"
   ]
  },
  {
   "cell_type": "markdown",
   "metadata": {},
   "source": [
    "## Summary\n",
    "\n",
    "We've seen in this post a way to distribute the joint training of an ensemble over a computational cluster with low communication overheads, and without our deep learning framework having to know about the cluster and manage communication across it.\n",
    "\n",
    "One obvious optimization to the distributed training procedure described above is to set the nodes up in a tree topology to minimize the total amount of communication in getting the individual network logits up to the aggregation node. Another optimization is to pipeline things, and have each node do the forward pass of the next minibatch while it waits for the ensemble predictions to come back allowing the computation of the backward pass of the previous minibatch, rather than blocking.\n",
    "\n",
    "What's potentially very nice about this procedure is its simplicity and the small amount of communication required. Although it's comparing apples to oranges, compare to batch parallelism, where you duplicate a single model across the computational nodes and each node computes parameter gradients on a very small minibatch. The parameter gradients are then shared and the mean is taken. The communication requirements for this procedure are that each node must send and receive a gradient for every parameter. For, e.g., a [Wide ResNet 28-12](https://arxiv.org/abs/1605.07146), this requires each node sending and receiving 52.5 million values per iteration. Batch parallelism also restricts our model size to what can fit in memory on a single node.\n",
    "The procedure described in this post allows us to train modular/ensemble models of unlimited size, with each computational node sending and receiving $B\\times K$ values per iteration, where $B$ is the batch size and $K$ is the number of classes. E.g., for a 10 class problem with batch size of 100, we communicate only 1000 values per iteration."
   ]
  }
 ],
 "metadata": {
  "kernelspec": {
   "display_name": "Python 3",
   "language": "python",
   "name": "python3"
  },
  "language_info": {
   "codemirror_mode": {
    "name": "ipython",
    "version": 3
   },
   "file_extension": ".py",
   "mimetype": "text/x-python",
   "name": "python",
   "nbconvert_exporter": "python",
   "pygments_lexer": "ipython3",
   "version": "3.6.5"
  }
 },
 "nbformat": 4,
 "nbformat_minor": 2
}
