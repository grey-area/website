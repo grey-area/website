{
 "cells": [
  {
   "cell_type": "markdown",
   "metadata": {
    "collapsed": true
   },
   "source": [
    "# TESTING\n",
    "\n",
    "I want to use this blog post to clear up some confusion I had recently in performing Bayesian parameter estimation using the PyMC Python library. The confusion concerns the role of the likelihood function in MCMC sampling.\n",
    "\n",
    "I'll assume the reader is familiar with Bayes' Theorem and has some idea about how it might be applied to assign probabilities to hypotheses given data."
   ]
  },
  {
   "cell_type": "markdown",
   "metadata": {},
   "source": [
    "First let's import the usual libraries."
   ]
  },
  {
   "cell_type": "code",
   "execution_count": 3,
   "metadata": {
    "collapsed": true
   },
   "outputs": [],
   "source": [
    "import pymc as pm\n",
    "import numpy as np\n",
    "import matplotlib.pyplot as plt\n",
    "%matplotlib inline"
   ]
  },
  {
   "cell_type": "markdown",
   "metadata": {},
   "source": [
    "## Coin bias inference problem"
   ]
  },
  {
   "cell_type": "markdown",
   "metadata": {},
   "source": [
    "So that we're all familiar with... coin flipping example."
   ]
  },
  {
   "cell_type": "code",
   "execution_count": 13,
   "metadata": {
    "collapsed": false
   },
   "outputs": [
    {
     "name": "stdout",
     "output_type": "stream",
     "text": [
      " [-----------------100%-----------------] 50000 of 50000 complete in 1.5 sec"
     ]
    }
   ],
   "source": [
    "true_coin_bias = 0.5 # The (unknown) bias of the coin\n",
    "num_flips = 100\n",
    "\n",
    "# The given data, the result of 100 coin flips\n",
    "data = np.random.choice([0, 1], p=[1-true_coin_bias, true_coin_bias], size=num_flips)\n",
    "\n",
    "# We want to infer the bias, p.\n",
    "# Since p is unknown, it is a random variable.\n",
    "# The distribution we assign to it here is our prior distribution on p.\n",
    "p = pm.Uniform(\"p\", lower=0, upper=1)\n",
    "\n",
    "# We need another random variable for our observations.\n",
    "# We give the relevant data to the value argument.\n",
    "# The observed flag stops the value changing during MCMC exploration.\n",
    "observations = pm.Bernoulli(\"obs\", p=p, value=data, observed=True)\n",
    "\n",
    "model = pm.Model([p, observations])\n",
    "mcmc = pm.MCMC(model)\n",
    "\n",
    "mcmc.sample(50000, 5000)\n",
    "\n",
    "p_samples = mcmc.trace(\"p\")[:]"
   ]
  },
  {
   "cell_type": "code",
   "execution_count": 14,
   "metadata": {
    "collapsed": false
   },
   "outputs": [
    {
     "data": {
      "text/plain": [
       "(0, 1)"
      ]
     },
     "execution_count": 14,
     "metadata": {},
     "output_type": "execute_result"
    },
    {
     "data": {
      "image/png": "[encoded data removed]",
      "text/plain": [
       "<matplotlib.figure.Figure at 0x7f41f071acc0>"
      ]
     },
     "metadata": {},
     "output_type": "display_data"
    }
   ],
   "source": [
    "plt.hist(p_samples, bins=40)\n",
    "plt.xlim(0,1)"
   ]
  },
  {
   "cell_type": "markdown",
   "metadata": {},
   "source": [
    "## Deterministic nodes"
   ]
  },
  {
   "cell_type": "code",
   "execution_count": 34,
   "metadata": {
    "collapsed": false
   },
   "outputs": [
    {
     "name": "stdout",
     "output_type": "stream",
     "text": [
      " [-----------------100%-----------------] 50000 of 50000 complete in 2.3 sec"
     ]
    }
   ],
   "source": [
    "true_sigma = 2.0\n",
    "num_samples = 500\n",
    "data = np.random.normal(scale=true_sigma, size=num_samples)\n",
    "\n",
    "sigma = pm.Exponential(\"sigma\", 0.01)\n",
    "\n",
    "@pm.deterministic\n",
    "def tau(sigma=sigma):\n",
    "    return 1.0 / sigma**2\n",
    "\n",
    "observations = pm.Normal(\"obs\", 0, tau, value=data, observed=True)\n",
    "\n",
    "model = pm.Model([sigma, observations])\n",
    "mcmc = pm.MCMC(model)\n",
    "\n",
    "mcmc.sample(50000, 5000)\n",
    "\n",
    "sigma_samples = mcmc.trace(\"sigma\")[:]"
   ]
  },
  {
   "cell_type": "code",
   "execution_count": 36,
   "metadata": {
    "collapsed": false
   },
   "outputs": [
    {
     "data": {
      "image/png": "[encoded data removed]",
      "text/plain": [
       "<matplotlib.figure.Figure at 0x7f41f0ba87b8>"
      ]
     },
     "metadata": {},
     "output_type": "display_data"
    }
   ],
   "source": [
    "plt.hist(sigma_samples, bins=40);"
   ]
  },
  {
   "cell_type": "markdown",
   "metadata": {},
   "source": [
    "## The lighthouse problem"
   ]
  },
  {
   "cell_type": "markdown",
   "metadata": {},
   "source": [
    "Consider the following problem adapted from Gull (1988). There exists a lighthouse $\\alpha$ miles along a straight coastline (relative to some position $x=0$) and $\\beta$ miles offshore. As it rotates, it briefly flashes highly collimated beams of light at random intervals. We have light detectors along the coastline, and so for the $k$th time the light flashes (not counting the times the light is facing *away* from the coast) we record a position $x_k$. Given a sequence of observations, infer the position coordinates $\\alpha$ and $\\beta$. The relationships between all the variables for a single observation $x_k$ is shown below. Also shown is the angle $\\theta_k$ that the $k$th beam makes with the line joining the lighthouse to the coast.\n",
    "\n",
    "<img src=\"./img/lighthouse.png\" width=\"300\" />"
   ]
  },
  {
   "cell_type": "markdown",
   "metadata": {},
   "source": [
    "### Creating the data\n",
    "\n",
    "For simplicity, let's assume that each time the lighthouse flashes the angle of the beam is drawn uniformly between [$-\\pi / 2$, $\\pi / 2$].\n",
    "\n",
    "We can see from the diagram that $\\frac{x_k - \\alpha}{\\beta} = \\tan{\\theta_k}$, so $x_k = \\alpha + \\beta \\tan{\\theta_k}$. "
   ]
  },
  {
   "cell_type": "code",
   "execution_count": 38,
   "metadata": {
    "collapsed": false
   },
   "outputs": [],
   "source": [
    "# The parameters to be inferred. We only know them here because we are synthesising the data.\n",
    "true_alpha = 10\n",
    "true_beta = 50\n",
    "\n",
    "num_flashes = 100\n",
    "\n",
    "# Generate the angles\n",
    "true_thetas = np.random.uniform(low=-0.5*np.pi, high=0.5*np.pi, size=num_flashes)\n",
    "\n",
    "# Generate the x coordinates of the flashes along the coastline\n",
    "data = true_alpha + true_beta * np.tan(true_thetas)"
   ]
  },
  {
   "cell_type": "markdown",
   "metadata": {},
   "source": [
    "### First attempt"
   ]
  },
  {
   "cell_type": "code",
   "execution_count": 40,
   "metadata": {
    "collapsed": true
   },
   "outputs": [],
   "source": [
    "alpha = pm.Normal(\"alpha\", 0, 0.01)\n",
    "beta = pm.Exponential(\"beta\", 0.01)\n",
    "thetas = pm.Uniform(\"thetas\", lower=-0.5*np.pi, upper=0.5*np.pi, size=num_flashes)"
   ]
  },
  {
   "cell_type": "markdown",
   "metadata": {},
   "source": [
    "Now what? What I want to do is something like the following."
   ]
  },
  {
   "cell_type": "code",
   "execution_count": 41,
   "metadata": {
    "collapsed": false
   },
   "outputs": [
    {
     "ename": "TypeError",
     "evalue": "__init__() got an unexpected keyword argument 'observed'",
     "output_type": "error",
     "traceback": [
      "\u001b[0;31m---------------------------------------------------------------------------\u001b[0m",
      "\u001b[0;31mTypeError\u001b[0m                                 Traceback (most recent call last)",
      "\u001b[0;32m<ipython-input-41-34d7b6a9939b>\u001b[0m in \u001b[0;36m<module>\u001b[0;34m()\u001b[0m\n\u001b[1;32m      1\u001b[0m \u001b[0;34m@\u001b[0m\u001b[0mpm\u001b[0m\u001b[0;34m.\u001b[0m\u001b[0mdeterministic\u001b[0m\u001b[0;34m(\u001b[0m\u001b[0mvalue\u001b[0m\u001b[0;34m=\u001b[0m\u001b[0mdata\u001b[0m\u001b[0;34m,\u001b[0m \u001b[0mobserved\u001b[0m\u001b[0;34m=\u001b[0m\u001b[0;32mTrue\u001b[0m\u001b[0;34m)\u001b[0m\u001b[0;34m\u001b[0m\u001b[0m\n\u001b[0;32m----> 2\u001b[0;31m \u001b[0;32mdef\u001b[0m \u001b[0mxs\u001b[0m\u001b[0;34m(\u001b[0m\u001b[0malpha\u001b[0m\u001b[0;34m=\u001b[0m\u001b[0malpha\u001b[0m\u001b[0;34m,\u001b[0m \u001b[0mbeta\u001b[0m\u001b[0;34m=\u001b[0m\u001b[0mbeta\u001b[0m\u001b[0;34m,\u001b[0m \u001b[0mthetas\u001b[0m\u001b[0;34m=\u001b[0m\u001b[0mthetas\u001b[0m\u001b[0;34m)\u001b[0m\u001b[0;34m:\u001b[0m\u001b[0;34m\u001b[0m\u001b[0m\n\u001b[0m\u001b[1;32m      3\u001b[0m   \u001b[0;32mreturn\u001b[0m \u001b[0malpha\u001b[0m \u001b[0;34m+\u001b[0m \u001b[0mbeta\u001b[0m \u001b[0;34m*\u001b[0m \u001b[0mnp\u001b[0m\u001b[0;34m.\u001b[0m\u001b[0mtan\u001b[0m\u001b[0;34m(\u001b[0m\u001b[0mthetas\u001b[0m\u001b[0;34m)\u001b[0m\u001b[0;34m\u001b[0m\u001b[0m\n",
      "\u001b[0;32m/usr/local/lib/python3.4/dist-packages/pymc/InstantiationDecorators.py\u001b[0m in \u001b[0;36minstantiate_n\u001b[0;34m(__func__)\u001b[0m\n\u001b[1;32m    241\u001b[0m         junk, parents = _extract(\n\u001b[1;32m    242\u001b[0m             __func__, kwds, keys, 'Deterministic', probe=False)\n\u001b[0;32m--> 243\u001b[0;31m         \u001b[0;32mreturn\u001b[0m \u001b[0mDeterministic\u001b[0m\u001b[0;34m(\u001b[0m\u001b[0mparents\u001b[0m\u001b[0;34m=\u001b[0m\u001b[0mparents\u001b[0m\u001b[0;34m,\u001b[0m \u001b[0;34m**\u001b[0m\u001b[0mkwds\u001b[0m\u001b[0;34m)\u001b[0m\u001b[0;34m\u001b[0m\u001b[0m\n\u001b[0m\u001b[1;32m    244\u001b[0m \u001b[0;34m\u001b[0m\u001b[0m\n\u001b[1;32m    245\u001b[0m     \u001b[0mkeys\u001b[0m \u001b[0;34m=\u001b[0m \u001b[0;34m[\u001b[0m\u001b[0;34m'eval'\u001b[0m\u001b[0;34m]\u001b[0m\u001b[0;34m\u001b[0m\u001b[0m\n",
      "\u001b[0;31mTypeError\u001b[0m: __init__() got an unexpected keyword argument 'observed'"
     ]
    }
   ],
   "source": [
    "@pm.deterministic(value=data, observed=True)\n",
    "def xs(alpha=alpha, beta=beta, thetas=thetas):\n",
    "  return alpha + beta * np.tan(thetas)"
   ]
  },
  {
   "cell_type": "markdown",
   "metadata": {},
   "source": [
    "Deterministic nodes do not support setting values, and fixing those values via an *observed* flag. At first I found this confusing."
   ]
  },
  {
   "cell_type": "code",
   "execution_count": null,
   "metadata": {
    "collapsed": true
   },
   "outputs": [],
   "source": []
  }
 ],
 "metadata": {
  "kernelspec": {
   "display_name": "Python 3",
   "language": "python",
   "name": "python3"
  },
  "language_info": {
   "codemirror_mode": {
    "name": "ipython",
    "version": 3
   },
   "file_extension": ".py",
   "mimetype": "text/x-python",
   "name": "python",
   "nbconvert_exporter": "python",
   "pygments_lexer": "ipython3",
   "version": "3.4.3"
  }
 },
 "nbformat": 4,
 "nbformat_minor": 2
}
