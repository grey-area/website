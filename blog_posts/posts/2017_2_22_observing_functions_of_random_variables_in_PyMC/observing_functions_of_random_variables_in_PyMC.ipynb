{
 "cells": [
  {
   "cell_type": "markdown",
   "metadata": {
    "collapsed": true
   },
   "source": [
    "I've recently been teaching myself to use the MCMC library [PyMC](https://pymc-devs.github.io/pymc3/), and had some confusion when trying to solve a (seemingly) simple inference problem. \n",
    "The purpose of this blog post to clear up that confusion.\n",
    "\n",
    "I'll assume the reader is familiar with Bayes' Theorem and how it might be applied to reassign probabilities to hypotheses after observing data."
   ]
  },
  {
   "cell_type": "markdown",
   "metadata": {},
   "source": [
    "First let's import the usual libraries, as well as my own utils functions for plotting."
   ]
  },
  {
   "cell_type": "code",
   "execution_count": 1,
   "metadata": {
    "collapsed": true
   },
   "outputs": [],
   "source": [
    "import pymc as pm\n",
    "import numpy as np\n",
    "import matplotlib.pyplot as plt\n",
    "import utils\n",
    "%matplotlib inline"
   ]
  },
  {
   "cell_type": "markdown",
   "metadata": {},
   "source": [
    "## Coin bias inference example"
   ]
  },
  {
   "cell_type": "markdown",
   "metadata": {},
   "source": [
    "As a simple illustration of the way in which you build up models in PyMC, let's look at the typical problem of infering the bias of a coin."
   ]
  },
  {
   "cell_type": "code",
   "execution_count": 7,
   "metadata": {
    "collapsed": false
   },
   "outputs": [],
   "source": [
    "true_coin_bias = 0.5 # The (unknown) bias of the coin\n",
    "num_flips = 100\n",
    "\n",
    "# The given data, the result of 100 coin flips\n",
    "data = np.random.choice([0, 1], p=[1-true_coin_bias, true_coin_bias], size=num_flips)\n",
    "\n",
    "# We want to infer the bias, p.\n",
    "# Since p is unknown, it is a random variable.\n",
    "# The distribution we assign to it here is our prior distribution on p, uniform on the range [0, 1].\n",
    "p = pm.Uniform(\"p\", lower=0, upper=1)\n",
    "\n",
    "# We need another random variable for our observations.\n",
    "# We give the relevant data to the value argument.\n",
    "# The observed flag stops the value changing during MCMC exploration.\n",
    "observations = pm.Bernoulli(\"obs\", p=p, value=data, observed=True)\n",
    "\n",
    "model = pm.Model([p, observations])"
   ]
  },
  {
   "cell_type": "markdown",
   "metadata": {},
   "source": [
    "So far, we have stated our prior distribution on $p$, and declared that the likelihood function of each of our coin flip observations is a Bernoulli distribution with $p$ as its parameter. When we tell PyMC to do MCMC sampling, it samples from the distribution proportional to the product of these terms, i.e., the posterior distribution on $p$.\n",
    "\n",
    "Graphically, the model looks as follows. Each node in the graph is a random variable. Arrows indicate parent/child relationships, and grey nodes are 'observed'."
   ]
  },
  {
   "cell_type": "code",
   "execution_count": 8,
   "metadata": {
    "collapsed": false
   },
   "outputs": [
    {
     "data": {
      "image/png": "[encoded data removed]",
      "text/plain": [
       "<IPython.core.display.Image object>"
      ]
     },
     "execution_count": 8,
     "metadata": {},
     "output_type": "execute_result"
    }
   ],
   "source": [
    "utils.display_graph(model)"
   ]
  },
  {
   "cell_type": "markdown",
   "metadata": {},
   "source": [
    "The next step is to tell PyMC to perform MCMC sampling. The histogram of samples approximates the posterior. The black line shows the true value."
   ]
  },
  {
   "cell_type": "code",
   "execution_count": 9,
   "metadata": {
    "collapsed": false
   },
   "outputs": [
    {
     "name": "stdout",
     "output_type": "stream",
     "text": [
      " [-----------------100%-----------------] 50000 of 50000 complete in 1.7 sec"
     ]
    },
    {
     "data": {
      "image/png": "[encoded data removed]",
      "text/plain": [
       "<matplotlib.figure.Figure at 0x7f7970b73828>"
      ]
     },
     "metadata": {},
     "output_type": "display_data"
    }
   ],
   "source": [
    "mcmc = pm.MCMC(model)\n",
    "mcmc.sample(50000, 5000) # 50000 steps, with a burn in period of 5000\n",
    "\n",
    "# Samples from our posterior on p\n",
    "p_samples = mcmc.trace(\"p\")[:]\n",
    "\n",
    "plt.hist(p_samples, bins=40, normed=True)\n",
    "plt.axvline(x=true_coin_bias, c=\"k\")\n",
    "plt.xlabel(\"p\")\n",
    "plt.title(\"Approximate posterior of p\")\n",
    "plt.xlim(0,1);"
   ]
  },
  {
   "cell_type": "markdown",
   "metadata": {},
   "source": [
    "## Deterministic nodes\n",
    "\n",
    "Next let's look at an example of a model which includes a deterministic node, that is, a node whose value is known if the values of its parent nodes are known. Such nodes do not contribute a term to the posterior.\n",
    "\n",
    "In this example we have some samples from a normal distribution, and we will infer the standard deviation parameter of that normal distribution. "
   ]
  },
  {
   "cell_type": "code",
   "execution_count": 10,
   "metadata": {
    "collapsed": false
   },
   "outputs": [],
   "source": [
    "true_sigma = 2.0 # The true (unknown) value of the standard deviation, sigma\n",
    "num_samples = 500\n",
    "\n",
    "# Some samples from the distribution\n",
    "data = np.random.normal(scale=true_sigma, size=num_samples)\n",
    "\n",
    "# Our prior on sigma. An exponential with expected value 1/beta = 100\n",
    "sigma = pm.Exponential(\"sigma\", beta=0.01)\n",
    "\n",
    "# PyMCs Normal distribution accepts a precision parameter rather than a standard deviation or variance parameter. The precision tau = 1.0/sigma**2.\n",
    "# For this we need a deterministic node, which can be set up as follows.\n",
    "@pm.deterministic\n",
    "def tau(sigma=sigma):\n",
    "    return 1.0 / sigma**2\n",
    "\n",
    "# A node for our observations, with a single parent parameter tau.\n",
    "observations = pm.Normal(\"obs\", 0, tau, value=data, observed=True)\n",
    "\n",
    "model = pm.Model([sigma, observations])"
   ]
  },
  {
   "cell_type": "markdown",
   "metadata": {},
   "source": [
    "The *@pm.deterministic* decorator sets up a deterministic node whose value is given by the function following the decorator, and whose parents are the parameters of that function.\n",
    "\n",
    "Let's look at the graph of this model, in which the deterministic node in indicated with a triangle."
   ]
  },
  {
   "cell_type": "code",
   "execution_count": 11,
   "metadata": {
    "collapsed": false
   },
   "outputs": [
    {
     "data": {
      "image/png": "[encoded data removed]",
      "text/plain": [
       "<IPython.core.display.Image object>"
      ]
     },
     "execution_count": 11,
     "metadata": {},
     "output_type": "execute_result"
    }
   ],
   "source": [
    "utils.display_graph(model)"
   ]
  },
  {
   "cell_type": "markdown",
   "metadata": {},
   "source": [
    "Sigma is a random variable which we have a prior over. The value of Tau depends deterministically on Sigma. Our observations are random variables the likelihood function of which takes Tau as a parameter. The Tau node does not contribute directly to the posterior. When we tell PyMC to perform MCMC sampling, we sample from the distribution proportional to the prior over Sigma multiplied by the likelihood functions of the observations.\n",
    "\n",
    "Now let's perform MCMC sampling and look at the histogram of samples from the posterior. Again, the black line shows the true value."
   ]
  },
  {
   "cell_type": "code",
   "execution_count": 12,
   "metadata": {
    "collapsed": false
   },
   "outputs": [
    {
     "name": "stdout",
     "output_type": "stream",
     "text": [
      " [-----------------100%-----------------] 50000 of 50000 complete in 2.4 sec"
     ]
    },
    {
     "data": {
      "image/png": "[encoded data removed]",
      "text/plain": [
       "<matplotlib.figure.Figure at 0x7f7970b9deb8>"
      ]
     },
     "metadata": {},
     "output_type": "display_data"
    }
   ],
   "source": [
    "mcmc = pm.MCMC(model)\n",
    "mcmc.sample(50000, 5000)\n",
    "\n",
    "sigma_samples = mcmc.trace(\"sigma\")[:]\n",
    "\n",
    "plt.hist(sigma_samples, bins=40, normed=True);\n",
    "plt.axvline(x=true_sigma, c=\"k\")\n",
    "plt.title(\"Approximate posterior of sigma\")\n",
    "plt.xlabel(\"sigma\");"
   ]
  },
  {
   "cell_type": "markdown",
   "metadata": {},
   "source": [
    "## The lighthouse problem"
   ]
  },
  {
   "cell_type": "markdown",
   "metadata": {},
   "source": [
    "Consider the following problem adapted from Gull (1988). There exists a lighthouse $\\alpha$ miles along a straight coastline (relative to some position $x=0$) and $\\beta$ miles offshore. As it rotates, it briefly flashes highly collimated beams of light at random intervals. We have light detectors along the coastline, and so for the $k$th time the light flashes (not counting the times the light is facing *away* from the coast) we record a position $x_k$. Given a sequence of observations, infer the position coordinates $\\alpha$ and $\\beta$.\n",
    "\n",
    "The relationships between all the variables for a single observation $x_k$ is shown below. Also shown is the angle $\\theta_k$ that the $k$th beam makes with the line joining the lighthouse to the coast.\n",
    "\n",
    "<img src=\"./img/lighthouse.png\" width=\"300\" />"
   ]
  },
  {
   "cell_type": "markdown",
   "metadata": {},
   "source": [
    "### Creating the data\n",
    "\n",
    "For simplicity, let's assume that each time the lighthouse flashes the angle of the beam is sampled uniformly between [$-\\pi / 2$, $\\pi / 2$].\n",
    "\n",
    "We can see from the diagram that $\\frac{x_k - \\alpha}{\\beta} = \\tan{\\theta_k}$, so $x_k = \\alpha + \\beta \\tan{\\theta_k}$. "
   ]
  },
  {
   "cell_type": "code",
   "execution_count": 13,
   "metadata": {
    "collapsed": false
   },
   "outputs": [],
   "source": [
    "# The parameters to be inferred. We only know them here because we are synthesising the data.\n",
    "true_alpha = 10\n",
    "true_beta = 50\n",
    "\n",
    "num_flashes = 50\n",
    "\n",
    "# Generate the angles\n",
    "true_thetas = np.random.uniform(low=-0.5*np.pi, high=0.5*np.pi, size=num_flashes)\n",
    "\n",
    "# Generate the x coordinates of the flashes along the coastline\n",
    "data = true_alpha + true_beta * np.tan(true_thetas)"
   ]
  },
  {
   "cell_type": "markdown",
   "metadata": {},
   "source": [
    "### First modelling attempt"
   ]
  },
  {
   "cell_type": "code",
   "execution_count": 14,
   "metadata": {
    "collapsed": true
   },
   "outputs": [],
   "source": [
    "# Our prior distribution on alpha and beta.\n",
    "# Alpha is normally distributed with a standard deviation of 50 miles.\n",
    "# Beta is exponentially distributed with a mean value of 100 miles.\n",
    "alpha = pm.Normal(\"alpha\", 0, 1.0/50**2)\n",
    "beta = pm.Exponential(\"beta\", 1.0/100)\n",
    "# We have a prior distribution for the angle of the lighthouse for every time we observed a flash, uniform over [-pi/2, pi/2]\n",
    "thetas = pm.Uniform(\"thetas\", lower=-0.5*np.pi, upper=0.5*np.pi, size=num_flashes)"
   ]
  },
  {
   "cell_type": "markdown",
   "metadata": {},
   "source": [
    "Now what? In this case, the vector of observations would be a deterministic function of alpha, beta, and the vector of angles, which we can set up as follows."
   ]
  },
  {
   "cell_type": "code",
   "execution_count": 15,
   "metadata": {
    "collapsed": false
   },
   "outputs": [
    {
     "data": {
      "image/png": "[encoded data removed]",
      "text/plain": [
       "<IPython.core.display.Image object>"
      ]
     },
     "execution_count": 15,
     "metadata": {},
     "output_type": "execute_result"
    }
   ],
   "source": [
    "@pm.deterministic\n",
    "def xs(alpha=alpha, beta=beta, thetas=thetas):\n",
    "  return alpha + beta * np.tan(thetas)\n",
    "\n",
    "model = pm.Model([alpha, beta, thetas, xs])\n",
    "utils.display_graph(model)"
   ]
  },
  {
   "cell_type": "markdown",
   "metadata": {},
   "source": [
    "The graph of the model looks like what we wanted. Note though that I didn't indicate that the vector *xs* was *observed*, or link it to the data we have collected.\n",
    "\n",
    "This is because a node in PyMC cannot be simultaneously deterministic and observed. Why not? I'm not the only person to have been confused by this (other examples can be found here: [1](https://groups.google.com/forum/#!topic/pymc/gAImsliT34o) [2](http://stats.stackexchange.com/questions/56543/pymc-how-can-i-define-a-function-of-two-stochastic-variables-with-no-closed-fo) [3](http://stackoverflow.com/questions/40026052/observed-deterministic-in-pymc3) [4](http://stackoverflow.com/questions/26397835/pymc-observed-data-for-a-sum-of-random-variables))"
   ]
  },
  {
   "cell_type": "markdown",
   "metadata": {},
   "source": [
    "In order to understand why this is not possible, we need to remind ourselves how MCMC sampling works.\n",
    "\n",
    "First, the values of all stochastic, non-observed nodes are initialised randomly. Then, a new position in the space of possible values for each of these nodes is considered. Whether we move to the new location depends on the value of the posterior distribution at the old location and at the new location, and this process is repeated.\n",
    "\n",
    "Note that because *xs* is a deterministic function of its parents, the likelihood function for a given value of $x$, $p(x|\\alpha, \\beta, \\theta)$ is *zero* for almost all values of $\\alpha$, $\\beta$, and $\\theta$. As a result, the posterior distribution is also zero almost everywhere. Since almost everywhere the MCMC process looks, it sees a posterior probability of zero, it has no way to explore the space effectively."
   ]
  },
  {
   "cell_type": "markdown",
   "metadata": {},
   "source": [
    "There is a solution, but unfortunately we can't avoid doing a bit of work here. If we have a pdf $f(x)$ for the random variable $X$, then the pdf for the random variable $Y(X)$ is $f(x(y))\\frac{dx}{dy}$."
   ]
  },
  {
   "cell_type": "markdown",
   "metadata": {},
   "source": [
    "[TODO: clarify]\n",
    "\n",
    "$f(\\theta)$ is $1/\\pi$ in the range [$-\\pi/2, \\pi/2$].\n",
    "\n",
    "The pdf over $x$ is $\\frac{\\beta}{\\pi (\\beta^2 + (\\alpha - x)^2)}$, defined over [$-\\infty, \\infty$], and is plotted below.\n",
    "\n",
    "The log probability is then $\\log(\\beta) - \\log(\\pi) - \\log((\\alpha - x)^2)$."
   ]
  },
  {
   "cell_type": "code",
   "execution_count": 13,
   "metadata": {
    "collapsed": false
   },
   "outputs": [
    {
     "data": {
      "image/png": "[encoded data removed]",
      "text/plain": [
       "<matplotlib.figure.Figure at 0x7f72cb35efd0>"
      ]
     },
     "metadata": {},
     "output_type": "display_data"
    }
   ],
   "source": [
    "def x_pdf(x, alpha, beta):\n",
    "  return beta / (np.pi * (beta**2 + (alpha - x)**2))\n",
    "\n",
    "xs = np.linspace(-10,10,100)\n",
    "ps = np.vectorize(x_pdf)(xs, 0.0, 1.0)\n",
    "plt.ylim(0, 0.35)\n",
    "plt.xlabel(\"x\")\n",
    "plt.ylabel(\"f(x)\")\n",
    "plt.plot(xs, ps);"
   ]
  },
  {
   "cell_type": "markdown",
   "metadata": {},
   "source": [
    "The proper way to define the model then is as follows.\n",
    "\n",
    "The *@pm.stochastic* decorator sets up a stochastic node whose log-probability is as defined in the function that follows it. The first parameter of that function is the initial value, and the remaining parameters are the parent nodes. We can set the node to be *observed* by setting a flag within the decorator.\n",
    "\n",
    "Since the function is to return the log probability of our vector of observations, we compute the vector of log probabilities and take the sum."
   ]
  },
  {
   "cell_type": "code",
   "execution_count": 39,
   "metadata": {
    "collapsed": false
   },
   "outputs": [
    {
     "data": {
      "image/png": "[encoded data removed]",
      "text/plain": [
       "<IPython.core.display.Image object>"
      ]
     },
     "execution_count": 39,
     "metadata": {},
     "output_type": "execute_result"
    }
   ],
   "source": [
    "alpha = pm.Normal(\"alpha\", 0, 1.0/50**2)\n",
    "beta = pm.Exponential(\"beta\", 1.0/100)\n",
    "\n",
    "@pm.stochastic(name=\"obs\", dtype=np.float64, observed=True)\n",
    "def obs(value=data, alpha=alpha, beta=beta):\n",
    "    return np.sum(np.log(beta) - np.log(np.pi) - np.log(beta**2 + (alpha-value)**2))\n",
    "\n",
    "model = pm.Model([alpha, beta, obs])\n",
    "utils.display_graph(model)"
   ]
  },
  {
   "cell_type": "markdown",
   "metadata": {},
   "source": [
    "Now let's perform MCMC sampling and visualise the result.\n",
    "\n",
    "The contour plot is an illustration of the posterior distribution over *alpha* and *beta*. The thick black line at the bottom of the plot illustrates the location of the coastline, with the yellow dots showing the locations where beam flashes were detected. The large black dot shows the true location of the lighthouse."
   ]
  },
  {
   "cell_type": "code",
   "execution_count": 40,
   "metadata": {
    "collapsed": false
   },
   "outputs": [
    {
     "name": "stdout",
     "output_type": "stream",
     "text": [
      " [-----------------100%-----------------] 20000 of 20000 complete in 1.5 sec"
     ]
    },
    {
     "data": {
      "image/png": "[encoded data removed]",
      "text/plain": [
       "<matplotlib.figure.Figure at 0x7f72cb287518>"
      ]
     },
     "metadata": {},
     "output_type": "display_data"
    }
   ],
   "source": [
    "mcmc = pm.MCMC(model)\n",
    "mcmc.sample(20000, 2000)\n",
    "\n",
    "alpha_samples = mcmc.trace(\"alpha\")[:]\n",
    "beta_samples = mcmc.trace(\"beta\")[:]\n",
    "utils.plot_lighthouse_posterior(alpha_samples, beta_samples, data, true_alpha, true_beta)"
   ]
  }
 ],
 "metadata": {
  "kernelspec": {
   "display_name": "Python 3",
   "language": "python",
   "name": "python3"
  },
  "language_info": {
   "codemirror_mode": {
    "name": "ipython",
    "version": 3
   },
   "file_extension": ".py",
   "mimetype": "text/x-python",
   "name": "python",
   "nbconvert_exporter": "python",
   "pygments_lexer": "ipython3",
   "version": "3.4.3"
  }
 },
 "nbformat": 4,
 "nbformat_minor": 2
}
