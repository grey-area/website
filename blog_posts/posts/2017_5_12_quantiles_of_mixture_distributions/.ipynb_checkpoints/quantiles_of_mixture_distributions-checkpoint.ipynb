{
 "cells": [
  {
   "cell_type": "markdown",
   "metadata": {
    "collapsed": true
   },
   "source": [
    "How do you compute quantiles of mixture distributions? I had to do this for a project recently, and Googling didn't lead me to a nice, easy answer. This is a quick summary of a (fairly obvious) solution to that problem, in the hope that it will save somebody some time."
   ]
  },
  {
   "cell_type": "markdown",
   "metadata": {},
   "source": [
    "## Mixture distributions\n",
    "\n",
    "Suppose we have $N$ random variables, with the $i$th random variable $X_i$ having the probability density function $f_i(x)$ and the cumulative distribution function $F_i(x)$. Now suppose we select one of the random variables randomly, with random variable $i$ having a probability $p_i$ of being selected. The probability distribution of the randomly selected variable is a mixture distribution. "
   ]
  },
  {
   "cell_type": "markdown",
   "metadata": {},
   "source": [
    "## The PDF and CDF of a mixture distribution\n",
    "\n",
    "We can write the pdf $f(x)$ and cdf $F(x)$ of the mixture distribution as follows.\n",
    "\n",
    "$f(x) = \\sum_{i=1}^{N} p_i f_i(x)\\quad$, and\n",
    "\n",
    "$F(x) = \\sum_{i=1}^{N} p_i F_i(x)\\quad$.\n",
    "\n",
    "In words, the the mixture distribution pdf (and cdf) is a weighted sum of the component distribution pdfs (and cdfs), weighted by the probability with which the corresponding random variables are selected.\n",
    "\n",
    "For example, suppose we flip a fair coin, and if it comes up heads we sample from an exponential distribution (with scale 1), and if it comes up tails we sample from a standard normal distribution. The following plots show the component distribution and mixture distribution pdfs."
   ]
  },
  {
   "cell_type": "code",
   "execution_count": 2,
   "metadata": {},
   "outputs": [
    {
     "data": {
      "image/png": "[encoded data removed]",
      "text/plain": [
       "<matplotlib.figure.Figure at 0x7f900d4d4e10>"
      ]
     },
     "metadata": {},
     "output_type": "display_data"
    }
   ],
   "source": [
    "from scipy import stats\n",
    "import numpy as np\n",
    "import matplotlib.pyplot as plt\n",
    "%matplotlib inline\n",
    "\n",
    "xs = np.linspace(-3, 3, 100)\n",
    "ps_component1 = stats.norm().pdf(xs)\n",
    "ps_component2 = stats.expon().pdf(xs)\n",
    "ps_mixture = 0.5 * ps_component1 + 0.5 * ps_component2\n",
    "\n",
    "f, (ax1, ax2, ax3) = plt.subplots(1, 3, sharey=True)\n",
    "ax1.plot(xs, ps_component1)\n",
    "ax1.set_title('Component 1')\n",
    "ax2.plot(xs, ps_component2)\n",
    "ax2.set_title('Component 2')\n",
    "ax3.plot(xs, ps_mixture)\n",
    "ax3.set_title('Mixture distribution')\n",
    "ax1.set_ylabel('pdf');"
   ]
  },
  {
   "cell_type": "markdown",
   "metadata": {},
   "source": [
    "## Computing quantiles of mixture distributions (of continuous component distributions)\n",
    "\n",
    "Unfortunately, there's no way, in general, of expressing the quantile function of a mixture distribution in terms of the quantile functions of the component distributions. So what do we do if we need to compute the $p$th quantile of a mixture?"
   ]
  },
  {
   "cell_type": "markdown",
   "metadata": {},
   "source": [
    "We look for the smallest value $x$ such that the cdf $F(x)$ is greater than or equal to $p$. As noted above, we can calculate $F(x)$ in terms of the cdfs of the components. Because $F(x)$ is monotonically increasing, we can perform binary search on $x$ to find the smallest value such that $F(x)$ is greater than or equal to $p$. "
   ]
  },
  {
   "cell_type": "markdown",
   "metadata": {},
   "source": [
    "First we'll need the following function. It returns the smallest value $x$ between $lo$ and $hi$ such that $f(x) \\ge v$."
   ]
  },
  {
   "cell_type": "code",
   "execution_count": 3,
   "metadata": {
    "collapsed": true
   },
   "outputs": [],
   "source": [
    "# Return the smallest value x between lo and hi such that f(x) >= v\n",
    "def continuous_bisect_fun_left(f, v, lo, hi):\n",
    "    val_range = [lo, hi]\n",
    "    k = 0.5 * sum(val_range)\n",
    "    for i in range(32):\n",
    "        val_range[int(f(k) > v)] = k\n",
    "        next_k = 0.5 * sum(val_range)\n",
    "        if next_k == k:\n",
    "            break\n",
    "        k = next_k\n",
    "    return k"
   ]
  },
  {
   "cell_type": "markdown",
   "metadata": {},
   "source": [
    "The following function takes a list of component distributions and a list of probabilities, and returns the a function which is the cdf of the mixture."
   ]
  },
  {
   "cell_type": "code",
   "execution_count": 4,
   "metadata": {
    "collapsed": true
   },
   "outputs": [],
   "source": [
    "# Return the function that is the cdf of the mixture distribution\n",
    "def get_mixture_cdf(component_distributions, ps):\n",
    "    return lambda x: sum(component_dist.cdf(x) * p for component_dist, p in zip(component_distributions, ps))"
   ]
  },
  {
   "cell_type": "markdown",
   "metadata": {},
   "source": [
    "The following function puts these together to compute the $p$th quantile of the mixture."
   ]
  },
  {
   "cell_type": "code",
   "execution_count": 5,
   "metadata": {
    "collapsed": true
   },
   "outputs": [],
   "source": [
    "# Return the pth quantile of the mixture distribution given by the component distributions and their probabilities\n",
    "def mixture_quantile(p, component_distributions, ps):\n",
    "    mixture_cdf = get_mixture_cdf(component_distributions, ps)\n",
    "\n",
    "    # We can probably be a bit smarter about how we pick the limits\n",
    "    lo = np.min([dist.ppf(p) for dist in component_distributions])\n",
    "    hi = np.max([dist.ppf(p) for dist in component_distributions])\n",
    "\n",
    "    return continuous_bisect_fun_left(mixture_cdf, p, lo, hi)"
   ]
  },
  {
   "cell_type": "markdown",
   "metadata": {},
   "source": [
    "Let's test it by finding the 75th percentile of the mixture of a normal and exponential distribution described above."
   ]
  },
  {
   "cell_type": "code",
   "execution_count": 6,
   "metadata": {},
   "outputs": [
    {
     "name": "stdout",
     "output_type": "stream",
     "text": [
      "Computed quantile for p = 0.75: 1.0444910285011346\n"
     ]
    }
   ],
   "source": [
    "# The two component distributions: a normal and an exponential distribution\n",
    "component_dists = [stats.norm(), stats.expon()]\n",
    "# Chosen by fair coin flip\n",
    "ps = [0.5, 0.5]\n",
    "# We want the 75th percentile of the mixture\n",
    "p = 0.75\n",
    "\n",
    "quantile = mixture_quantile(p, component_dists, ps)\n",
    "print(\"Computed quantile for p = 0.75: {}\".format(quantile))"
   ]
  },
  {
   "cell_type": "markdown",
   "metadata": {},
   "source": [
    "Now let's calculate the same thing by sampling."
   ]
  },
  {
   "cell_type": "code",
   "execution_count": 8,
   "metadata": {},
   "outputs": [
    {
     "name": "stdout",
     "output_type": "stream",
     "text": [
      "Quantile from sample for p = 0.75: 1.0441686918008217\n"
     ]
    }
   ],
   "source": [
    "N = 200000\n",
    "# Determine how many of our samples are from the normal distribution,\n",
    "# and how many from the exponential distribution, based on a fair coin flip\n",
    "num_normal = np.random.binomial(N, 0.5)\n",
    "num_exponential = N - num_normal\n",
    "\n",
    "# Gather our normal and exponential samples\n",
    "normal_samples = np.random.normal(size=num_normal)\n",
    "expon_samples = np.random.exponential(size=num_exponential)\n",
    "\n",
    "# Pool the samples\n",
    "samples = np.hstack((normal_samples, expon_samples))\n",
    "\n",
    "sample_quantile = np.percentile(samples, p*100)\n",
    "print(\"Quantile from sample for p = 0.75: {}\".format(sample_quantile))"
   ]
  },
  {
   "cell_type": "markdown",
   "metadata": {},
   "source": [
    "Voila.\n",
    "\n",
    "You can do the same thing if you have a mixture of discrete distributions by using the python built-in function bisect.bisect_left (in place of my continuous_bisect_fun_left function) on a lazily evaluated array (using the la module) of the mixture CDF values."
   ]
  }
 ],
 "metadata": {
  "kernelspec": {
   "display_name": "Python 3",
   "language": "python",
   "name": "python3"
  },
  "language_info": {
   "codemirror_mode": {
    "name": "ipython",
    "version": 3
   },
   "file_extension": ".py",
   "mimetype": "text/x-python",
   "name": "python",
   "nbconvert_exporter": "python",
   "pygments_lexer": "ipython3",
   "version": "3.4.3"
  }
 },
 "nbformat": 4,
 "nbformat_minor": 2
}
