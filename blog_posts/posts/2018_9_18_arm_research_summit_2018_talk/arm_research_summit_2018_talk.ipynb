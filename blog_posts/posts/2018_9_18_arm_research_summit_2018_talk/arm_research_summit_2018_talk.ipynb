{
 "cells": [
  {
   "cell_type": "markdown",
   "metadata": {
    "collapsed": true
   },
   "source": [
    "<iframe width=\"560\" height=\"315\" src=\"https://www.youtube.com/embed/VfZ1rs4fJjA?rel=0&amp;start=3703\" frameborder=\"0\" allow=\"autoplay; encrypted-media\" allowfullscreen></iframe>"
   ]
  },
  {
   "cell_type": "markdown",
   "metadata": {},
   "source": [
    "[Gavin Brown](http://www.cs.man.ac.uk/~gbrown/) and I gave a talk today at the 2018 Arm Research Summit. This is a talk about our work with [Mikel Luján](http://apt.cs.manchester.ac.uk/people/mlujan/), [Henry Reeve](http://www.cs.man.ac.uk/~reeveh/), and Charles Reynolds in training modular ensembles of neural networks.\n",
    "\n",
    "This was a machine learning talk aimed at a non-machine learning audience, and we touched on the *robustness of the trained ensembles to dropping out models* and the largely decoupled nature of the training, which allows *parallel training of the ensemble with low communication overheads*."
   ]
  }
 ],
 "metadata": {
  "kernelspec": {
   "display_name": "Python 3",
   "language": "python",
   "name": "python3"
  },
  "language_info": {
   "codemirror_mode": {
    "name": "ipython",
    "version": 3
   },
   "file_extension": ".py",
   "mimetype": "text/x-python",
   "name": "python",
   "nbconvert_exporter": "python",
   "pygments_lexer": "ipython3",
   "version": "3.6.5"
  }
 },
 "nbformat": 4,
 "nbformat_minor": 2
}
